{
 "cells": [
  {
   "cell_type": "code",
   "execution_count": null,
   "id": "025be139",
   "metadata": {},
   "outputs": [],
   "source": [
    "import numpy as np\n",
    "import tensorflow as tf\n",
    "import matplotlib.pyplot as plt\n",
    "\n",
    "from tensorflow.keras import layers\n",
    "from tensorflow.keras.datasets import mnist\n",
    "from tensorflow.keras.models import Model"
   ]
  },
  {
   "cell_type": "code",
   "execution_count": null,
   "id": "26305988",
   "metadata": {},
   "outputs": [],
   "source": [
    "input = layers.Input(shape=X_train[0].shape)\n",
    "\n",
    "# Encoder\n",
    "x = layers.Conv2D(512, (3, 3), activation=\"relu\", padding=\"same\", input_shape = X_train[0].shape)(input)\n",
    "x = layers.MaxPooling2D((2, 2), padding=\"same\")(x)\n",
    "x = layers.Conv2D(256, (3, 3), activation=\"relu\", padding=\"same\")(x)\n",
    "x = layers.MaxPooling2D((2, 2), padding=\"same\")(x)\n",
    "x = layers.Conv2D(128, (3, 3), activation=\"relu\", padding=\"same\", name = \"expected_op\")(x)\n",
    "#x = layers.MaxPooling2D((2, 2), padding=\"same\")(x)\n",
    "y =layers.Flatten()(x)\n",
    "# Decoder\n",
    "x = layers.Conv2DTranspose(256, (3, 3), strides=2, activation=\"relu\", padding=\"same\")(x)\n",
    "x = layers.Conv2DTranspose(512, (3, 3), strides=2, activation=\"relu\", padding=\"same\")(x)\n",
    "#x = layers.Conv2DTranspose(, (3, 3), strides=2, activation=\"relu\", padding=\"same\")(x)\n",
    "x = layers.Conv2D(3, (3, 3), activation=\"sigmoid\", padding=\"same\")(x)\n",
    "\n",
    "\n",
    "y"
   ]
  },
  {
   "cell_type": "code",
   "execution_count": null,
   "id": "3fccc950",
   "metadata": {},
   "outputs": [],
   "source": [
    "autoencoder = Model(input, x)\n",
    "#autoencoder.compile(optimizer=\"adam\", loss=\"binary_crossentropy\")\n",
    "autoencoder.summary()"
   ]
  },
  {
   "cell_type": "code",
   "execution_count": null,
   "id": "0065f3ee",
   "metadata": {},
   "outputs": [],
   "source": [
    "from tensorflow.keras.optimizers import Adam, RMSprop\n"
   ]
  },
  {
   "cell_type": "code",
   "execution_count": null,
   "id": "346e0156",
   "metadata": {},
   "outputs": [],
   "source": [
    "autoencoder.compile(loss='mean_squared_error', optimizer = RMSprop())\n"
   ]
  },
  {
   "cell_type": "code",
   "execution_count": null,
   "id": "09e377fa",
   "metadata": {},
   "outputs": [],
   "source": [
    "trained_model = autoencoder.fit(X_train, X_train_noisy, epochs=25, verbose=1, validation_data=(X_test, X_test_noisy))"
   ]
  },
  {
   "cell_type": "code",
   "execution_count": null,
   "id": "85811e96",
   "metadata": {},
   "outputs": [],
   "source": [
    "pred = autoencoder.predict(X_test_noisy)\n"
   ]
  },
  {
   "cell_type": "code",
   "execution_count": null,
   "id": "af5b4a33",
   "metadata": {},
   "outputs": [],
   "source": [
    "pred.shape\n"
   ]
  },
  {
   "cell_type": "code",
   "execution_count": null,
   "id": "aaebce3e",
   "metadata": {},
   "outputs": [],
   "source": []
  }
 ],
 "metadata": {
  "kernelspec": {
   "display_name": "Python 3",
   "language": "python",
   "name": "python3"
  },
  "language_info": {
   "codemirror_mode": {
    "name": "ipython",
    "version": 3
   },
   "file_extension": ".py",
   "mimetype": "text/x-python",
   "name": "python",
   "nbconvert_exporter": "python",
   "pygments_lexer": "ipython3",
   "version": "3.6.12"
  }
 },
 "nbformat": 4,
 "nbformat_minor": 5
}
